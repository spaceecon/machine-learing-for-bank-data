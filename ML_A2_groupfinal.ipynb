{
 "cells": [
  {
   "cell_type": "markdown",
   "metadata": {
    "id": "VAydvn0o1i8o"
   },
   "source": [
    "# Machine Learning Programming Assignment 2"
   ]
  },
  {
   "cell_type": "code",
   "execution_count": 1,
   "metadata": {
    "id": "31hpiMd6B8ih"
   },
   "outputs": [],
   "source": [
    "import matplotlib.pyplot as plt\n",
    "import pandas as pd\n",
    "import numpy as np"
   ]
  },
  {
   "cell_type": "code",
   "execution_count": 2,
   "metadata": {
    "id": "mcJ1dzV7FErm"
   },
   "outputs": [],
   "source": [
    "from sklearn import linear_model\n",
    "from sklearn.datasets import make_regression\n",
    "\n",
    "from sklearn.linear_model import Ridge, LinearRegression, Lasso, RidgeCV, LassoCV,ElasticNet, LogisticRegression\n",
    "\n",
    "from sklearn.model_selection import cross_val_score\n",
    "from sklearn.model_selection import GridSearchCV\n",
    "\n",
    "from sklearn.metrics import r2_score\n",
    "from sklearn.metrics import mean_squared_error\n",
    "from sklearn.metrics import mean_absolute_error\n",
    "\n",
    "from sklearn.pipeline import Pipeline\n",
    "from sklearn.pipeline import make_pipeline\n",
    "\n",
    "from sklearn.model_selection import train_test_split\n",
    "from sklearn.preprocessing import StandardScaler, MinMaxScaler\n",
    "\n",
    "from matplotlib import pyplot\n",
    "import seaborn as sns\n",
    "\n",
    "from sklearn.svm import LinearSVC\n",
    "\n",
    "import warnings\n",
    "import seaborn as sns\n",
    "\n",
    "from sklearn.metrics import classification_report,confusion_matrix\n",
    "from sklearn.model_selection import ShuffleSplit\n"
   ]
  },
  {
   "cell_type": "markdown",
   "metadata": {
    "id": "fTFKcLpCpDjK"
   },
   "source": [
    "# Part 1 Wine"
   ]
  },
  {
   "cell_type": "code",
   "execution_count": 3,
   "metadata": {
    "colab": {
     "base_uri": "https://localhost:8080/",
     "height": 346
    },
    "id": "7mSq634VETZz",
    "outputId": "debc60e7-8a83-41c3-c50d-339c7be46b2c"
   },
   "outputs": [],
   "source": [
    "#Read csv files\n",
    "red = pd.read_csv(\"winequality-red.csv\", delimiter=';')\n",
    "white = pd.read_csv(\"winequality-white.csv\", delimiter=';')"
   ]
  },
  {
   "cell_type": "code",
   "execution_count": 4,
   "metadata": {
    "colab": {
     "base_uri": "https://localhost:8080/",
     "height": 201
    },
    "id": "4Je8xPesrsPh",
    "outputId": "6f72f813-b235-4b2e-f8d2-663a9736b51f"
   },
   "outputs": [],
   "source": [
    "#Substitute spaces in column names for _\n",
    "red.columns = red.columns.str.replace(' ','_')\n",
    "white.columns = red.columns.str.replace(' ','_')"
   ]
  },
  {
   "cell_type": "markdown",
   "metadata": {
    "id": "5sQvhkL9In65"
   },
   "source": [
    "## Logistic Regression"
   ]
  },
  {
   "cell_type": "code",
   "execution_count": 5,
   "metadata": {
    "id": "itIGiFPE6Fpt"
   },
   "outputs": [],
   "source": [
    "# The Logistic Regression model\n",
    "\n",
    "def wine_logistic_regression(df):\n",
    "    ''' Logistic Regression using MinMaxScaler, GridSearchCV, and cross-validation for the wine datasets. \n",
    "    \n",
    "    Prints the training and test set scores. \n",
    "    \n",
    "    Args:\n",
    "        df : pandas.core.frame.DataFrame [the wine dataset that you want to use]\n",
    "    \n",
    "    Returns:\n",
    "        Does not return anything.  \n",
    "    '''\n",
    "    # Feature variables\n",
    "    X = df.drop('quality',axis = 1)\n",
    "    y = df['quality']\n",
    "    \n",
    "    # Splitting data in train and test sets\n",
    "    X_train, X_test, y_train, y_test = train_test_split(X,y,test_size=0.25)\n",
    "    \n",
    "    # Creating a pipeline\n",
    "    pipe = Pipeline([(\"scaler\", MinMaxScaler()), (\"lr\", LogisticRegression(max_iter = 10000))]) \n",
    "    \n",
    "    # Grid search\n",
    "    param_grid = {'lr__C': [0.001, 0.01, 0.1, 1, 10, 100]}\n",
    "    cv = ShuffleSplit(n_splits=5, test_size=0.25)  \n",
    "    grid = GridSearchCV(pipe, param_grid=param_grid, cv=cv)\n",
    "    # Fitting data into the model\n",
    "    grid.fit(X_train, y_train) \n",
    "    \n",
    "    # Evaluate a score by cross-validation and report it\n",
    "    cv_score = np.mean(cross_val_score(grid,X_train,y_train, cv=cv))\n",
    "    print(\"The training score by cross-validation.: {:.4f}\".format(cv_score))\n",
    "    # Report the training set and test set scores\n",
    "    print('Training set score: {:.4f}'.format(grid.score(X_train,y_train)))\n",
    "    print('Test set score: {:.4f}'.format(grid.score(X_test, y_test)))"
   ]
  },
  {
   "cell_type": "code",
   "execution_count": 6,
   "metadata": {
    "colab": {
     "base_uri": "https://localhost:8080/"
    },
    "id": "4Mgi93AMORec",
    "outputId": "7073fbc2-a2bd-439b-c7f4-8d210cb04137"
   },
   "outputs": [
    {
     "name": "stdout",
     "output_type": "stream",
     "text": [
      "The training score by cross-validation.: 0.6040\n",
      "Training set score: 0.6180\n",
      "Test set score: 0.5550\n"
     ]
    }
   ],
   "source": [
    "wine_logistic_regression(red)"
   ]
  },
  {
   "cell_type": "code",
   "execution_count": 7,
   "metadata": {
    "colab": {
     "base_uri": "https://localhost:8080/"
    },
    "id": "YZq9ERi1x5T8",
    "outputId": "347edd25-adb1-4999-9190-dd9383e1846c"
   },
   "outputs": [
    {
     "name": "stdout",
     "output_type": "stream",
     "text": [
      "The training score by cross-validation.: 0.5452\n",
      "Training set score: 0.5440\n",
      "Test set score: 0.5363\n"
     ]
    }
   ],
   "source": [
    "wine_logistic_regression(white)"
   ]
  },
  {
   "cell_type": "markdown",
   "metadata": {
    "id": "72OjEhOwz7YG"
   },
   "source": [
    "1. As the quality of wine is an integer (not continuous) from 1 to 10, treating quality as a categorical object gives a better prediction.\n",
    "\n",
    "2. We use logistics regression as a classifier to solve this muti-classification problem. However, logistics regression is usually used for binary classification. Moreover, the logistic regression assumes a linear relationship between the features and the target values, while the linear relationship is not significant in our case (see Assignment 1).\n",
    "\n",
    "3. For classification problems, each category does not have a natural order. However, there is an order to the quality of the wine. This may lead us to miss some useful information."
   ]
  },
  {
   "cell_type": "markdown",
   "metadata": {
    "id": "MJUB6WGRRuQb"
   },
   "source": [
    "# Part 2 Bank"
   ]
  },
  {
   "cell_type": "markdown",
   "metadata": {
    "id": "DfFRVQ1Ox5T8"
   },
   "source": [
    "## Data Preprocessing"
   ]
  },
  {
   "cell_type": "code",
   "execution_count": 8,
   "metadata": {
    "id": "wTDG1eirRyYm"
   },
   "outputs": [],
   "source": [
    "#Read csv files\n",
    "train = pd.read_csv(\"train.csv\",na_values='unknown') # Treating the 'unknown' as NaN\n",
    "test = pd.read_csv(\"test.csv\", na_values='unknown')\n",
    "test_label = pd.read_csv('test_label.csv',na_values='unknown') "
   ]
  },
  {
   "cell_type": "code",
   "execution_count": 9,
   "metadata": {
    "id": "rqb5q-Ngx5T9"
   },
   "outputs": [],
   "source": [
    "# drop the time-related columns\n",
    "train = train.drop(columns=['day','month'])\n",
    "test = test.drop(columns=['day','month'])"
   ]
  },
  {
   "cell_type": "code",
   "execution_count": 10,
   "metadata": {
    "colab": {
     "base_uri": "https://localhost:8080/"
    },
    "id": "tGFy8zhmZVlt",
    "outputId": "1dc25ea2-5070-4084-dfc0-46ec2502819d"
   },
   "outputs": [
    {
     "name": "stdout",
     "output_type": "stream",
     "text": [
      "job: Missing 80 : 0.62 %\n",
      "marital: Missing 0 : 0.00 %\n",
      "education: Missing 547 : 4.25 %\n",
      "default: Missing 0 : 0.00 %\n",
      "housing: Missing 0 : 0.00 %\n",
      "loan: Missing 0 : 0.00 %\n",
      "contact: Missing 3239 : 25.17 %\n",
      "poutcome: Missing 10070 : 78.24 %\n"
     ]
    }
   ],
   "source": [
    "# Specify the categorical columns\n",
    "categorical_columns = [\n",
    "    \"job\",\n",
    "    \"marital\",\n",
    "    'education',\n",
    "    'default',\n",
    "    'housing',\n",
    "    'loan',\n",
    "    'contact',\n",
    "    'poutcome' ]  \n",
    "\n",
    "# Information of missing values in the training set\n",
    "for i in categorical_columns:\n",
    "    n_miss = train[i].isnull().sum()\n",
    "    perc = n_miss / train.shape[0] * 100\n",
    "    print(\"{i}: Missing {n_miss} : {perc:.2f} %\".format(i = i,n_miss = n_miss, perc = perc))\n"
   ]
  },
  {
   "cell_type": "markdown",
   "metadata": {
    "id": "WSRx_ZX2Et_5"
   },
   "source": [
    "Since 78% of the missing values in the 'poutcome' are missing, it is decided to drop this feature. For other features with missing values, we replace them with the mode."
   ]
  },
  {
   "cell_type": "code",
   "execution_count": 11,
   "metadata": {
    "id": "aNWt3fY0Ey6l"
   },
   "outputs": [],
   "source": [
    "# Drop the poutcome column\n",
    "train = train.drop(columns=['poutcome'])\n",
    "test = test.drop(columns=['poutcome'])\n",
    "categorical_columns.remove('poutcome')\n",
    "\n",
    "# replace missing values with mode in job,education,contact \n",
    "train['job'] = train['job'].fillna(train['job'].mode()[0])\n",
    "train['education'] = train['education'].fillna(train['education'].mode()[0])\n",
    "train['contact'] = train['contact'].fillna(train['contact'].mode()[0])\n",
    "\n",
    "test['job'] = test['job'].fillna(test['job'].mode()[0])\n",
    "test['education'] = test['education'].fillna(train['education'].mode()[0])\n",
    "test['contact'] = test['contact'].fillna(test['contact'].mode()[0])\n"
   ]
  },
  {
   "cell_type": "code",
   "execution_count": 12,
   "metadata": {
    "colab": {
     "base_uri": "https://localhost:8080/",
     "height": 317
    },
    "id": "k_7sxlofErGS",
    "outputId": "67da4893-a399-45af-a687-93e8e4babe94"
   },
   "outputs": [
    {
     "data": {
      "text/html": [
       "<div>\n",
       "<style scoped>\n",
       "    .dataframe tbody tr th:only-of-type {\n",
       "        vertical-align: middle;\n",
       "    }\n",
       "\n",
       "    .dataframe tbody tr th {\n",
       "        vertical-align: top;\n",
       "    }\n",
       "\n",
       "    .dataframe thead th {\n",
       "        text-align: right;\n",
       "    }\n",
       "</style>\n",
       "<table border=\"1\" class=\"dataframe\">\n",
       "  <thead>\n",
       "    <tr style=\"text-align: right;\">\n",
       "      <th></th>\n",
       "      <th>ID</th>\n",
       "      <th>age</th>\n",
       "      <th>balance</th>\n",
       "      <th>campaign</th>\n",
       "      <th>pdays</th>\n",
       "      <th>previous</th>\n",
       "      <th>y</th>\n",
       "      <th>job_blue-collar</th>\n",
       "      <th>job_entrepreneur</th>\n",
       "      <th>job_housemaid</th>\n",
       "      <th>...</th>\n",
       "      <th>job_technician</th>\n",
       "      <th>job_unemployed</th>\n",
       "      <th>marital_married</th>\n",
       "      <th>marital_single</th>\n",
       "      <th>education_secondary</th>\n",
       "      <th>education_tertiary</th>\n",
       "      <th>default_yes</th>\n",
       "      <th>housing_yes</th>\n",
       "      <th>loan_yes</th>\n",
       "      <th>contact_telephone</th>\n",
       "    </tr>\n",
       "  </thead>\n",
       "  <tbody>\n",
       "    <tr>\n",
       "      <th>0</th>\n",
       "      <td>13829</td>\n",
       "      <td>29</td>\n",
       "      <td>18254</td>\n",
       "      <td>2</td>\n",
       "      <td>-1</td>\n",
       "      <td>0</td>\n",
       "      <td>no</td>\n",
       "      <td>0</td>\n",
       "      <td>0</td>\n",
       "      <td>0</td>\n",
       "      <td>...</td>\n",
       "      <td>1</td>\n",
       "      <td>0</td>\n",
       "      <td>0</td>\n",
       "      <td>1</td>\n",
       "      <td>0</td>\n",
       "      <td>1</td>\n",
       "      <td>0</td>\n",
       "      <td>0</td>\n",
       "      <td>0</td>\n",
       "      <td>0</td>\n",
       "    </tr>\n",
       "    <tr>\n",
       "      <th>1</th>\n",
       "      <td>22677</td>\n",
       "      <td>26</td>\n",
       "      <td>512</td>\n",
       "      <td>3</td>\n",
       "      <td>-1</td>\n",
       "      <td>0</td>\n",
       "      <td>no</td>\n",
       "      <td>0</td>\n",
       "      <td>0</td>\n",
       "      <td>0</td>\n",
       "      <td>...</td>\n",
       "      <td>0</td>\n",
       "      <td>0</td>\n",
       "      <td>0</td>\n",
       "      <td>1</td>\n",
       "      <td>1</td>\n",
       "      <td>0</td>\n",
       "      <td>0</td>\n",
       "      <td>1</td>\n",
       "      <td>1</td>\n",
       "      <td>0</td>\n",
       "    </tr>\n",
       "    <tr>\n",
       "      <th>2</th>\n",
       "      <td>10541</td>\n",
       "      <td>30</td>\n",
       "      <td>135</td>\n",
       "      <td>2</td>\n",
       "      <td>-1</td>\n",
       "      <td>0</td>\n",
       "      <td>no</td>\n",
       "      <td>0</td>\n",
       "      <td>0</td>\n",
       "      <td>0</td>\n",
       "      <td>...</td>\n",
       "      <td>0</td>\n",
       "      <td>0</td>\n",
       "      <td>0</td>\n",
       "      <td>1</td>\n",
       "      <td>1</td>\n",
       "      <td>0</td>\n",
       "      <td>0</td>\n",
       "      <td>0</td>\n",
       "      <td>0</td>\n",
       "      <td>0</td>\n",
       "    </tr>\n",
       "    <tr>\n",
       "      <th>3</th>\n",
       "      <td>13689</td>\n",
       "      <td>41</td>\n",
       "      <td>30</td>\n",
       "      <td>1</td>\n",
       "      <td>-1</td>\n",
       "      <td>0</td>\n",
       "      <td>no</td>\n",
       "      <td>0</td>\n",
       "      <td>0</td>\n",
       "      <td>0</td>\n",
       "      <td>...</td>\n",
       "      <td>1</td>\n",
       "      <td>0</td>\n",
       "      <td>1</td>\n",
       "      <td>0</td>\n",
       "      <td>1</td>\n",
       "      <td>0</td>\n",
       "      <td>0</td>\n",
       "      <td>1</td>\n",
       "      <td>0</td>\n",
       "      <td>0</td>\n",
       "    </tr>\n",
       "    <tr>\n",
       "      <th>4</th>\n",
       "      <td>11304</td>\n",
       "      <td>27</td>\n",
       "      <td>321</td>\n",
       "      <td>1</td>\n",
       "      <td>-1</td>\n",
       "      <td>0</td>\n",
       "      <td>no</td>\n",
       "      <td>0</td>\n",
       "      <td>0</td>\n",
       "      <td>0</td>\n",
       "      <td>...</td>\n",
       "      <td>0</td>\n",
       "      <td>0</td>\n",
       "      <td>0</td>\n",
       "      <td>1</td>\n",
       "      <td>1</td>\n",
       "      <td>0</td>\n",
       "      <td>0</td>\n",
       "      <td>0</td>\n",
       "      <td>1</td>\n",
       "      <td>0</td>\n",
       "    </tr>\n",
       "  </tbody>\n",
       "</table>\n",
       "<p>5 rows × 25 columns</p>\n",
       "</div>"
      ],
      "text/plain": [
       "      ID  age  balance  campaign  pdays  previous   y  job_blue-collar  \\\n",
       "0  13829   29    18254         2     -1         0  no                0   \n",
       "1  22677   26      512         3     -1         0  no                0   \n",
       "2  10541   30      135         2     -1         0  no                0   \n",
       "3  13689   41       30         1     -1         0  no                0   \n",
       "4  11304   27      321         1     -1         0  no                0   \n",
       "\n",
       "   job_entrepreneur  job_housemaid  ...  job_technician  job_unemployed  \\\n",
       "0                 0              0  ...               1               0   \n",
       "1                 0              0  ...               0               0   \n",
       "2                 0              0  ...               0               0   \n",
       "3                 0              0  ...               1               0   \n",
       "4                 0              0  ...               0               0   \n",
       "\n",
       "   marital_married  marital_single  education_secondary  education_tertiary  \\\n",
       "0                0               1                    0                   1   \n",
       "1                0               1                    1                   0   \n",
       "2                0               1                    1                   0   \n",
       "3                1               0                    1                   0   \n",
       "4                0               1                    1                   0   \n",
       "\n",
       "   default_yes  housing_yes  loan_yes  contact_telephone  \n",
       "0            0            0         0                  0  \n",
       "1            0            1         1                  0  \n",
       "2            0            0         0                  0  \n",
       "3            0            1         0                  0  \n",
       "4            0            0         1                  0  \n",
       "\n",
       "[5 rows x 25 columns]"
      ]
     },
     "execution_count": 12,
     "metadata": {},
     "output_type": "execute_result"
    }
   ],
   "source": [
    "# Perform the one-hot encoding\n",
    "train_encoded = pd.get_dummies(train, columns=categorical_columns, drop_first=True)\n",
    "test_encoded = pd.get_dummies(test, columns=categorical_columns, drop_first=True)\n",
    "\n",
    "# View the resulting DataFrame\n",
    "train_encoded.head()"
   ]
  },
  {
   "cell_type": "code",
   "execution_count": 13,
   "metadata": {
    "id": "oceS3tzhcpe2"
   },
   "outputs": [],
   "source": [
    "X_train = train_encoded.drop('y',axis = 1)\n",
    "y_train = train_encoded['y']\n",
    "X_test = test_encoded\n",
    "y_test = test_label['y']"
   ]
  },
  {
   "cell_type": "code",
   "execution_count": 14,
   "metadata": {
    "colab": {
     "base_uri": "https://localhost:8080/"
    },
    "id": "g9Pqtg95x5T-",
    "outputId": "cee509d9-7f18-4fbc-b954-4522b8e59175"
   },
   "outputs": [
    {
     "name": "stdout",
     "output_type": "stream",
     "text": [
      "X_train shape: (12870, 24)\n",
      "y_train shape: (12870,)\n",
      "X_test shape: (4291, 24)\n",
      "y_test shape: (4291,)\n"
     ]
    }
   ],
   "source": [
    "print(\"X_train shape: {}\".format(X_train.shape))\n",
    "print(\"y_train shape: {}\".format(y_train.shape))\n",
    "print(\"X_test shape: {}\".format(X_test.shape))\n",
    "print(\"y_test shape: {}\".format(y_test.shape))"
   ]
  },
  {
   "cell_type": "markdown",
   "metadata": {
    "id": "wOMn8ylpx5T-"
   },
   "source": [
    "## Classification"
   ]
  },
  {
   "cell_type": "markdown",
   "metadata": {
    "id": "7VrrBH8Rx5T-"
   },
   "source": [
    "### Linear SVC"
   ]
  },
  {
   "cell_type": "code",
   "execution_count": 38,
   "metadata": {
    "id": "RBBIl4U3biGN"
   },
   "outputs": [],
   "source": [
    "def linear_svc_classifier(X_train,y_train, X_test,y_test):\n",
    "    ''' Linear SVC classifier using MinMaxScaler, GridSearchCV, and cross-validation for the wine datasets. \n",
    "    \n",
    "    Prints the cross-validation accuracy, the selected best parameters, the scaled training&test scores, \n",
    "    and the classification report.\n",
    "    Creates a confusion matrix.\n",
    "    Also does creates the model without scaler and prints the results with using the unscaled data. \n",
    "    \n",
    "    Args:\n",
    "        X_train : pandas.core.frame.DataFrame [The arguments that you would like to train the model on]\n",
    "        y_train : pandas.core.frame.DataFrame [The target that you would like to train the model on]\n",
    "        X_test : pandas.core.frame.DataFrame [The arguments that you would like to test the model on]\n",
    "        y_test : pandas.core.frame.DataFrame [The target that you would like to test the model on]\n",
    "    \n",
    "    Returns:\n",
    "        Does not return anything.  \n",
    "    '''\n",
    "    \n",
    "    \n",
    "    #Grid Search and Pipeline\n",
    "    param_grid = {'svm__C': [0.001, 0.01, 0.1, 1, 10]} # when the C increases to 100, it would fail to converge for scaled data\n",
    "    pipe = Pipeline([(\"scaler\", MinMaxScaler()), (\"svm\", LinearSVC(max_iter = 10000))]) # Create a pipeline with a scaler and a classifier\n",
    "    grid = GridSearchCV(pipe, param_grid=param_grid, cv=5)\n",
    "    grid.fit(X_train, y_train)\n",
    "    print(\"Best cross-validation accuracy: {:.2f}\".format(grid.best_score_))\n",
    "    print(\"Best parameters: {}\".format(grid.best_params_))\n",
    "    # Report the training set and test set scores\n",
    "    print('Scaled training set score: {:.4f}'.format(grid.score(X_train,y_train)))\n",
    "    print('Scaled Test set score: {:.4f}'.format(grid.score(X_test,y_test)))\n",
    "    \n",
    "    y_pred = grid.predict(X_test)\n",
    "    print(classification_report(y_test, y_pred))\n",
    "    \n",
    "    # Calculate the confusion matrix\n",
    "    cf_matrix = confusion_matrix(y_test, y_pred)\n",
    "    print('Confusion matrix:',cf_matrix)\n",
    "    ax = sns.heatmap(cf_matrix/np.sum(cf_matrix), annot=True, \n",
    "            fmt='.2%', cmap='Blues')\n",
    "    ax.set_title('Confusion Matrix\\n\\n');\n",
    "    ax.set_xlabel('\\nPredicted Values')\n",
    "    ax.set_ylabel('Actual Values ');\n",
    "    # Display the visualization of the Confusion Matrix.\n",
    "    plt.show()\n",
    "    \n",
    "    # Grid search on unscaled data \n",
    "    param_grid2 = {'C':  [0.001, 0.01, 0.1, 1, 10]} \n",
    "    lsvc = LinearSVC(max_iter = 10000) \n",
    "    grid2 = GridSearchCV(lsvc, param_grid=param_grid2, cv=5)\n",
    "    grid2.fit(X_train, y_train) \n",
    "    print('Unscaled training set score: {:.4f}'.format(grid2.score(X_train,y_train)))\n",
    "    print('Unscaled test set score: {:.4f}'.format(grid2.score(X_test,y_test)))"
   ]
  },
  {
   "cell_type": "code",
   "execution_count": 39,
   "metadata": {
    "colab": {
     "base_uri": "https://localhost:8080/",
     "height": 1000
    },
    "id": "bE5bzWVyx5T_",
    "outputId": "0a10ef07-5794-44ac-d716-173bc5a44792"
   },
   "outputs": [
    {
     "name": "stdout",
     "output_type": "stream",
     "text": [
      "Best cross-validation accuracy: 0.73\n",
      "Best parameters: {'svm__C': 0.1}\n",
      "Scaled training set score: 0.7274\n",
      "Scaled Test set score: 0.7292\n",
      "              precision    recall  f1-score   support\n",
      "\n",
      "          no       0.75      0.92      0.83      2969\n",
      "         yes       0.63      0.29      0.40      1322\n",
      "\n",
      "    accuracy                           0.73      4291\n",
      "   macro avg       0.69      0.61      0.61      4291\n",
      "weighted avg       0.71      0.73      0.69      4291\n",
      "\n",
      "Confusion matrix: [[2744  225]\n",
      " [ 937  385]]\n"
     ]
    },
    {
     "data": {
      "image/png": "[encoded data removed]",
      "text/plain": [
       "<Figure size 432x288 with 2 Axes>"
      ]
     },
     "metadata": {
      "needs_background": "light"
     },
     "output_type": "display_data"
    },
    {
     "name": "stderr",
     "output_type": "stream",
     "text": [
      "C:\\Users\\krist\\anaconda3\\lib\\site-packages\\sklearn\\svm\\_base.py:1225: ConvergenceWarning: Liblinear failed to converge, increase the number of iterations.\n",
      "  warnings.warn(\n",
      "C:\\Users\\krist\\anaconda3\\lib\\site-packages\\sklearn\\svm\\_base.py:1225: ConvergenceWarning: Liblinear failed to converge, increase the number of iterations.\n",
      "  warnings.warn(\n",
      "C:\\Users\\krist\\anaconda3\\lib\\site-packages\\sklearn\\svm\\_base.py:1225: ConvergenceWarning: Liblinear failed to converge, increase the number of iterations.\n",
      "  warnings.warn(\n",
      "C:\\Users\\krist\\anaconda3\\lib\\site-packages\\sklearn\\svm\\_base.py:1225: ConvergenceWarning: Liblinear failed to converge, increase the number of iterations.\n",
      "  warnings.warn(\n",
      "C:\\Users\\krist\\anaconda3\\lib\\site-packages\\sklearn\\svm\\_base.py:1225: ConvergenceWarning: Liblinear failed to converge, increase the number of iterations.\n",
      "  warnings.warn(\n",
      "C:\\Users\\krist\\anaconda3\\lib\\site-packages\\sklearn\\svm\\_base.py:1225: ConvergenceWarning: Liblinear failed to converge, increase the number of iterations.\n",
      "  warnings.warn(\n",
      "C:\\Users\\krist\\anaconda3\\lib\\site-packages\\sklearn\\svm\\_base.py:1225: ConvergenceWarning: Liblinear failed to converge, increase the number of iterations.\n",
      "  warnings.warn(\n",
      "C:\\Users\\krist\\anaconda3\\lib\\site-packages\\sklearn\\svm\\_base.py:1225: ConvergenceWarning: Liblinear failed to converge, increase the number of iterations.\n",
      "  warnings.warn(\n",
      "C:\\Users\\krist\\anaconda3\\lib\\site-packages\\sklearn\\svm\\_base.py:1225: ConvergenceWarning: Liblinear failed to converge, increase the number of iterations.\n",
      "  warnings.warn(\n",
      "C:\\Users\\krist\\anaconda3\\lib\\site-packages\\sklearn\\svm\\_base.py:1225: ConvergenceWarning: Liblinear failed to converge, increase the number of iterations.\n",
      "  warnings.warn(\n",
      "C:\\Users\\krist\\anaconda3\\lib\\site-packages\\sklearn\\svm\\_base.py:1225: ConvergenceWarning: Liblinear failed to converge, increase the number of iterations.\n",
      "  warnings.warn(\n",
      "C:\\Users\\krist\\anaconda3\\lib\\site-packages\\sklearn\\svm\\_base.py:1225: ConvergenceWarning: Liblinear failed to converge, increase the number of iterations.\n",
      "  warnings.warn(\n",
      "C:\\Users\\krist\\anaconda3\\lib\\site-packages\\sklearn\\svm\\_base.py:1225: ConvergenceWarning: Liblinear failed to converge, increase the number of iterations.\n",
      "  warnings.warn(\n",
      "C:\\Users\\krist\\anaconda3\\lib\\site-packages\\sklearn\\svm\\_base.py:1225: ConvergenceWarning: Liblinear failed to converge, increase the number of iterations.\n",
      "  warnings.warn(\n",
      "C:\\Users\\krist\\anaconda3\\lib\\site-packages\\sklearn\\svm\\_base.py:1225: ConvergenceWarning: Liblinear failed to converge, increase the number of iterations.\n",
      "  warnings.warn(\n",
      "C:\\Users\\krist\\anaconda3\\lib\\site-packages\\sklearn\\svm\\_base.py:1225: ConvergenceWarning: Liblinear failed to converge, increase the number of iterations.\n",
      "  warnings.warn(\n",
      "C:\\Users\\krist\\anaconda3\\lib\\site-packages\\sklearn\\svm\\_base.py:1225: ConvergenceWarning: Liblinear failed to converge, increase the number of iterations.\n",
      "  warnings.warn(\n",
      "C:\\Users\\krist\\anaconda3\\lib\\site-packages\\sklearn\\svm\\_base.py:1225: ConvergenceWarning: Liblinear failed to converge, increase the number of iterations.\n",
      "  warnings.warn(\n",
      "C:\\Users\\krist\\anaconda3\\lib\\site-packages\\sklearn\\svm\\_base.py:1225: ConvergenceWarning: Liblinear failed to converge, increase the number of iterations.\n",
      "  warnings.warn(\n",
      "C:\\Users\\krist\\anaconda3\\lib\\site-packages\\sklearn\\svm\\_base.py:1225: ConvergenceWarning: Liblinear failed to converge, increase the number of iterations.\n",
      "  warnings.warn(\n",
      "C:\\Users\\krist\\anaconda3\\lib\\site-packages\\sklearn\\svm\\_base.py:1225: ConvergenceWarning: Liblinear failed to converge, increase the number of iterations.\n",
      "  warnings.warn(\n",
      "C:\\Users\\krist\\anaconda3\\lib\\site-packages\\sklearn\\svm\\_base.py:1225: ConvergenceWarning: Liblinear failed to converge, increase the number of iterations.\n",
      "  warnings.warn(\n",
      "C:\\Users\\krist\\anaconda3\\lib\\site-packages\\sklearn\\svm\\_base.py:1225: ConvergenceWarning: Liblinear failed to converge, increase the number of iterations.\n",
      "  warnings.warn(\n",
      "C:\\Users\\krist\\anaconda3\\lib\\site-packages\\sklearn\\svm\\_base.py:1225: ConvergenceWarning: Liblinear failed to converge, increase the number of iterations.\n",
      "  warnings.warn(\n",
      "C:\\Users\\krist\\anaconda3\\lib\\site-packages\\sklearn\\svm\\_base.py:1225: ConvergenceWarning: Liblinear failed to converge, increase the number of iterations.\n",
      "  warnings.warn(\n"
     ]
    },
    {
     "name": "stdout",
     "output_type": "stream",
     "text": [
      "Unscaled training set score: 0.6915\n",
      "Unscaled test set score: 0.6919\n"
     ]
    },
    {
     "name": "stderr",
     "output_type": "stream",
     "text": [
      "C:\\Users\\krist\\anaconda3\\lib\\site-packages\\sklearn\\svm\\_base.py:1225: ConvergenceWarning: Liblinear failed to converge, increase the number of iterations.\n",
      "  warnings.warn(\n"
     ]
    }
   ],
   "source": [
    "linear_svc_classifier(X_train,y_train, X_test,y_test)"
   ]
  },
  {
   "cell_type": "code",
   "execution_count": 15,
   "metadata": {},
   "outputs": [],
   "source": [
    "def print_scores(grid):\n",
    "    '''\n",
    "    Prints out cross-validation accuracy, selected parameters, training set score and test set score.\n",
    "    Makes a classification report. \n",
    "    \n",
    "    '''\n",
    "    # Report the best cross-validation accuracy and parameters\n",
    "    print(\"Best cross-validation accuracy: {:.2f}\".format(grid.best_score_))\n",
    "    print(\"Best parameters: {}\".format(grid.best_params_))\n",
    "    # Report the training set and test set scores\n",
    "    print('Scaled training set score: {:.4f}'.format(grid.score(X_train,y_train)))\n",
    "    print('Scaled Test set score: {:.4f}'.format(grid.score(X_test,y_test)))\n",
    "    y_pred = grid.predict(X_test)\n",
    "    print(classification_report(y_test, y_pred))"
   ]
  },
  {
   "cell_type": "markdown",
   "metadata": {
    "id": "ksn3Zn1Bx5T_"
   },
   "source": [
    "We could see that the liblinear fails to converge due to the absence of a scale."
   ]
  },
  {
   "cell_type": "markdown",
   "metadata": {
    "id": "9pknOLWu2iuO"
   },
   "source": [
    "Precision and recall:\n",
    "\n",
    "1. precision: \n",
    "\n",
    "our model for pointed clients that didn't subscribe(0) has a 75% correct rate;\n",
    "\n",
    "our model for pointed clients that subscribe(1) has a 63% correct rate\n",
    "\n",
    "2. recall:\n",
    "\n",
    "for test set clients that didn't subscribe(0), our model predicts 92% correct;\n",
    "\n",
    "for test set clients that subscribe(1), our model predicts 29% correct. Its best we miss by False negative instead of False Positive"
   ]
  },
  {
   "cell_type": "markdown",
   "metadata": {
    "id": "n47ySG8kx5T_"
   },
   "source": [
    "### Logistic Regression"
   ]
  },
  {
   "cell_type": "code",
   "execution_count": 18,
   "metadata": {
    "id": "RkaZQNm2x5T_"
   },
   "outputs": [],
   "source": [
    "def logistic_regression(X_train,y_train, X_test,y_test):\n",
    "    ''' Logistic Regression using MinMaxScaler, GridSearchCV, and cross-validation for the wine datasets. \n",
    "    \n",
    "    Prints the cross-validation accuracy, the selected best parameters, the scaled training&test scores, \n",
    "    and the classification report.\n",
    "    Creates a confusion matrix.\n",
    "    Also does creates the model without scaler and prints the results with using the unscaled data. \n",
    "    \n",
    "    Args:\n",
    "        X_train : pandas.core.frame.DataFrame [The arguments that you would like to train the model on]\n",
    "        y_train : pandas.core.frame.DataFrame [The target that you would like to train the model on]\n",
    "        X_test : pandas.core.frame.DataFrame [The arguments that you would like to test the model on]\n",
    "        y_test : pandas.core.frame.DataFrame [The target that you would like to test the model on]\n",
    "    \n",
    "    Returns:\n",
    "        Does not return anything.  \n",
    "    '''\n",
    "    \n",
    "    # Grid Search and Pipeline\n",
    "    param_grid = {'lr__C': [0.001, 0.01, 0.1, 1, 10, 100]}\n",
    "\n",
    "    pipe = Pipeline([(\"scaler\", MinMaxScaler()), (\"lr\", LogisticRegression(max_iter = 10000))]) # Create a pipeline with a scaler and a classifier\n",
    "    grid = GridSearchCV(pipe, param_grid=param_grid, cv=5)\n",
    "    grid.fit(X_train, y_train)\n",
    "\n",
    "    print(\"Best cross-validation accuracy: {:.2f}\".format(grid.best_score_))\n",
    "    print(\"Best parameters: {}\".format(grid.best_params_))\n",
    "\n",
    "    # Report the training set and test set scores\n",
    "    print('Scaled training set score: {:.4f}'.format(grid.score(X_train,y_train)))\n",
    "    print('Scaled Test set score: {:.4f}'.format(grid.score(X_test,y_test)))\n",
    "    \n",
    "    y_pred = grid.predict(X_test)\n",
    "    print(classification_report(y_test, y_pred))\n",
    "    \n",
    "    # Calculate the confusion matrix\n",
    "    cf_matrix = confusion_matrix(y_test, y_pred)\n",
    "    print('Confusion matrix:',cf_matrix)\n",
    "    ax = sns.heatmap(cf_matrix/np.sum(cf_matrix), annot=True, \n",
    "            fmt='.2%', cmap='Blues')\n",
    "\n",
    "    ax.set_title('Confusion Matrix\\n\\n');\n",
    "    ax.set_xlabel('\\nPredicted Values')\n",
    "    ax.set_ylabel('Actual Values ');\n",
    "\n",
    "\n",
    "    # Display the visualization of the Confusion Matrix.\n",
    "    plt.show()\n",
    "    \n",
    "    # Grid search on unscaled data \n",
    "    param_grid2 = {'C': [0.001, 0.01, 0.1, 1, 10, 100]}\n",
    "    lr_unscaled = LogisticRegression() #try unscaled data\n",
    "    grid2 = GridSearchCV(lr_unscaled, param_grid=param_grid2, cv=5)\n",
    "    grid2.fit(X_train, y_train)\n",
    "\n",
    "    print('Unscaled training set score: {:.4f}'.format(grid2.score(X_train,y_train)))\n",
    "    print('Unscaled test set score: {:.4f}'.format(grid2.score(X_test,y_test)))"
   ]
  },
  {
   "cell_type": "code",
   "execution_count": 19,
   "metadata": {
    "colab": {
     "base_uri": "https://localhost:8080/",
     "height": 1000
    },
    "id": "iHUI8A5tx5UA",
    "outputId": "3b8f43ec-b282-4c1d-f81e-a3609caacc35"
   },
   "outputs": [
    {
     "name": "stdout",
     "output_type": "stream",
     "text": [
      "Best cross-validation accuracy: 0.73\n",
      "Best parameters: {'lr__C': 100}\n",
      "Scaled training set score: 0.7291\n",
      "Scaled Test set score: 0.7320\n",
      "              precision    recall  f1-score   support\n",
      "\n",
      "          no       0.76      0.90      0.82      2969\n",
      "         yes       0.61      0.35      0.45      1322\n",
      "\n",
      "    accuracy                           0.73      4291\n",
      "   macro avg       0.69      0.63      0.64      4291\n",
      "weighted avg       0.71      0.73      0.71      4291\n",
      "\n"
     ]
    },
    {
     "name": "stderr",
     "output_type": "stream",
     "text": [
      "C:\\Users\\krist\\anaconda3\\lib\\site-packages\\sklearn\\linear_model\\_logistic.py:444: ConvergenceWarning: lbfgs failed to converge (status=1):\n",
      "STOP: TOTAL NO. of ITERATIONS REACHED LIMIT.\n",
      "\n",
      "Increase the number of iterations (max_iter) or scale the data as shown in:\n",
      "    https://scikit-learn.org/stable/modules/preprocessing.html\n",
      "Please also refer to the documentation for alternative solver options:\n",
      "    https://scikit-learn.org/stable/modules/linear_model.html#logistic-regression\n",
      "  n_iter_i = _check_optimize_result(\n",
      "C:\\Users\\krist\\anaconda3\\lib\\site-packages\\sklearn\\linear_model\\_logistic.py:444: ConvergenceWarning: lbfgs failed to converge (status=1):\n",
      "STOP: TOTAL NO. of ITERATIONS REACHED LIMIT.\n",
      "\n",
      "Increase the number of iterations (max_iter) or scale the data as shown in:\n",
      "    https://scikit-learn.org/stable/modules/preprocessing.html\n",
      "Please also refer to the documentation for alternative solver options:\n",
      "    https://scikit-learn.org/stable/modules/linear_model.html#logistic-regression\n",
      "  n_iter_i = _check_optimize_result(\n",
      "C:\\Users\\krist\\anaconda3\\lib\\site-packages\\sklearn\\linear_model\\_logistic.py:444: ConvergenceWarning: lbfgs failed to converge (status=1):\n",
      "STOP: TOTAL NO. of ITERATIONS REACHED LIMIT.\n",
      "\n",
      "Increase the number of iterations (max_iter) or scale the data as shown in:\n",
      "    https://scikit-learn.org/stable/modules/preprocessing.html\n",
      "Please also refer to the documentation for alternative solver options:\n",
      "    https://scikit-learn.org/stable/modules/linear_model.html#logistic-regression\n",
      "  n_iter_i = _check_optimize_result(\n",
      "C:\\Users\\krist\\anaconda3\\lib\\site-packages\\sklearn\\linear_model\\_logistic.py:444: ConvergenceWarning: lbfgs failed to converge (status=1):\n",
      "STOP: TOTAL NO. of ITERATIONS REACHED LIMIT.\n",
      "\n",
      "Increase the number of iterations (max_iter) or scale the data as shown in:\n",
      "    https://scikit-learn.org/stable/modules/preprocessing.html\n",
      "Please also refer to the documentation for alternative solver options:\n",
      "    https://scikit-learn.org/stable/modules/linear_model.html#logistic-regression\n",
      "  n_iter_i = _check_optimize_result(\n",
      "C:\\Users\\krist\\anaconda3\\lib\\site-packages\\sklearn\\linear_model\\_logistic.py:444: ConvergenceWarning: lbfgs failed to converge (status=1):\n",
      "STOP: TOTAL NO. of ITERATIONS REACHED LIMIT.\n",
      "\n",
      "Increase the number of iterations (max_iter) or scale the data as shown in:\n",
      "    https://scikit-learn.org/stable/modules/preprocessing.html\n",
      "Please also refer to the documentation for alternative solver options:\n",
      "    https://scikit-learn.org/stable/modules/linear_model.html#logistic-regression\n",
      "  n_iter_i = _check_optimize_result(\n",
      "C:\\Users\\krist\\anaconda3\\lib\\site-packages\\sklearn\\linear_model\\_logistic.py:444: ConvergenceWarning: lbfgs failed to converge (status=1):\n",
      "STOP: TOTAL NO. of ITERATIONS REACHED LIMIT.\n",
      "\n",
      "Increase the number of iterations (max_iter) or scale the data as shown in:\n",
      "    https://scikit-learn.org/stable/modules/preprocessing.html\n",
      "Please also refer to the documentation for alternative solver options:\n",
      "    https://scikit-learn.org/stable/modules/linear_model.html#logistic-regression\n",
      "  n_iter_i = _check_optimize_result(\n",
      "C:\\Users\\krist\\anaconda3\\lib\\site-packages\\sklearn\\linear_model\\_logistic.py:444: ConvergenceWarning: lbfgs failed to converge (status=1):\n",
      "STOP: TOTAL NO. of ITERATIONS REACHED LIMIT.\n",
      "\n",
      "Increase the number of iterations (max_iter) or scale the data as shown in:\n",
      "    https://scikit-learn.org/stable/modules/preprocessing.html\n",
      "Please also refer to the documentation for alternative solver options:\n",
      "    https://scikit-learn.org/stable/modules/linear_model.html#logistic-regression\n",
      "  n_iter_i = _check_optimize_result(\n",
      "C:\\Users\\krist\\anaconda3\\lib\\site-packages\\sklearn\\linear_model\\_logistic.py:444: ConvergenceWarning: lbfgs failed to converge (status=1):\n",
      "STOP: TOTAL NO. of ITERATIONS REACHED LIMIT.\n",
      "\n",
      "Increase the number of iterations (max_iter) or scale the data as shown in:\n",
      "    https://scikit-learn.org/stable/modules/preprocessing.html\n",
      "Please also refer to the documentation for alternative solver options:\n",
      "    https://scikit-learn.org/stable/modules/linear_model.html#logistic-regression\n",
      "  n_iter_i = _check_optimize_result(\n",
      "C:\\Users\\krist\\anaconda3\\lib\\site-packages\\sklearn\\linear_model\\_logistic.py:444: ConvergenceWarning: lbfgs failed to converge (status=1):\n",
      "STOP: TOTAL NO. of ITERATIONS REACHED LIMIT.\n",
      "\n",
      "Increase the number of iterations (max_iter) or scale the data as shown in:\n",
      "    https://scikit-learn.org/stable/modules/preprocessing.html\n",
      "Please also refer to the documentation for alternative solver options:\n",
      "    https://scikit-learn.org/stable/modules/linear_model.html#logistic-regression\n",
      "  n_iter_i = _check_optimize_result(\n",
      "C:\\Users\\krist\\anaconda3\\lib\\site-packages\\sklearn\\linear_model\\_logistic.py:444: ConvergenceWarning: lbfgs failed to converge (status=1):\n",
      "STOP: TOTAL NO. of ITERATIONS REACHED LIMIT.\n",
      "\n",
      "Increase the number of iterations (max_iter) or scale the data as shown in:\n",
      "    https://scikit-learn.org/stable/modules/preprocessing.html\n",
      "Please also refer to the documentation for alternative solver options:\n",
      "    https://scikit-learn.org/stable/modules/linear_model.html#logistic-regression\n",
      "  n_iter_i = _check_optimize_result(\n",
      "C:\\Users\\krist\\anaconda3\\lib\\site-packages\\sklearn\\linear_model\\_logistic.py:444: ConvergenceWarning: lbfgs failed to converge (status=1):\n",
      "STOP: TOTAL NO. of ITERATIONS REACHED LIMIT.\n",
      "\n",
      "Increase the number of iterations (max_iter) or scale the data as shown in:\n",
      "    https://scikit-learn.org/stable/modules/preprocessing.html\n",
      "Please also refer to the documentation for alternative solver options:\n",
      "    https://scikit-learn.org/stable/modules/linear_model.html#logistic-regression\n",
      "  n_iter_i = _check_optimize_result(\n",
      "C:\\Users\\krist\\anaconda3\\lib\\site-packages\\sklearn\\linear_model\\_logistic.py:444: ConvergenceWarning: lbfgs failed to converge (status=1):\n",
      "STOP: TOTAL NO. of ITERATIONS REACHED LIMIT.\n",
      "\n",
      "Increase the number of iterations (max_iter) or scale the data as shown in:\n",
      "    https://scikit-learn.org/stable/modules/preprocessing.html\n",
      "Please also refer to the documentation for alternative solver options:\n",
      "    https://scikit-learn.org/stable/modules/linear_model.html#logistic-regression\n",
      "  n_iter_i = _check_optimize_result(\n",
      "C:\\Users\\krist\\anaconda3\\lib\\site-packages\\sklearn\\linear_model\\_logistic.py:444: ConvergenceWarning: lbfgs failed to converge (status=1):\n",
      "STOP: TOTAL NO. of ITERATIONS REACHED LIMIT.\n",
      "\n",
      "Increase the number of iterations (max_iter) or scale the data as shown in:\n",
      "    https://scikit-learn.org/stable/modules/preprocessing.html\n",
      "Please also refer to the documentation for alternative solver options:\n",
      "    https://scikit-learn.org/stable/modules/linear_model.html#logistic-regression\n",
      "  n_iter_i = _check_optimize_result(\n",
      "C:\\Users\\krist\\anaconda3\\lib\\site-packages\\sklearn\\linear_model\\_logistic.py:444: ConvergenceWarning: lbfgs failed to converge (status=1):\n",
      "STOP: TOTAL NO. of ITERATIONS REACHED LIMIT.\n",
      "\n",
      "Increase the number of iterations (max_iter) or scale the data as shown in:\n",
      "    https://scikit-learn.org/stable/modules/preprocessing.html\n",
      "Please also refer to the documentation for alternative solver options:\n",
      "    https://scikit-learn.org/stable/modules/linear_model.html#logistic-regression\n",
      "  n_iter_i = _check_optimize_result(\n",
      "C:\\Users\\krist\\anaconda3\\lib\\site-packages\\sklearn\\linear_model\\_logistic.py:444: ConvergenceWarning: lbfgs failed to converge (status=1):\n",
      "STOP: TOTAL NO. of ITERATIONS REACHED LIMIT.\n",
      "\n",
      "Increase the number of iterations (max_iter) or scale the data as shown in:\n",
      "    https://scikit-learn.org/stable/modules/preprocessing.html\n",
      "Please also refer to the documentation for alternative solver options:\n",
      "    https://scikit-learn.org/stable/modules/linear_model.html#logistic-regression\n",
      "  n_iter_i = _check_optimize_result(\n"
     ]
    },
    {
     "name": "stdout",
     "output_type": "stream",
     "text": [
      "Unscaled training set score: 0.7111\n",
      "Unscaled test set score: 0.6970\n"
     ]
    },
    {
     "name": "stderr",
     "output_type": "stream",
     "text": [
      "C:\\Users\\krist\\anaconda3\\lib\\site-packages\\sklearn\\linear_model\\_logistic.py:444: ConvergenceWarning: lbfgs failed to converge (status=1):\n",
      "STOP: TOTAL NO. of ITERATIONS REACHED LIMIT.\n",
      "\n",
      "Increase the number of iterations (max_iter) or scale the data as shown in:\n",
      "    https://scikit-learn.org/stable/modules/preprocessing.html\n",
      "Please also refer to the documentation for alternative solver options:\n",
      "    https://scikit-learn.org/stable/modules/linear_model.html#logistic-regression\n",
      "  n_iter_i = _check_optimize_result(\n"
     ]
    }
   ],
   "source": [
    "logistic_regression(X_train,y_train, X_test,y_test)"
   ]
  },
  {
   "cell_type": "markdown",
   "metadata": {
    "id": "OQRaO5pkx5UA"
   },
   "source": [
    "We could see that the logistic regression fails to converge due to the absence of a scale."
   ]
  },
  {
   "cell_type": "markdown",
   "metadata": {
    "id": "oBxN8PzV3JoG"
   },
   "source": [
    "Precision and recall:\n",
    "\n",
    "1. precision: \n",
    "\n",
    "our model for pointed clients that didn't subscribe(0) has a 76% correct rate;\n",
    "\n",
    "our model for pointed clients that subscribe(1) has a 61% correct rate\n",
    "\n",
    "2. recall:\n",
    "\n",
    "for test set clients that didn't subscribe(0), our model predicts 90% correct;\n",
    "\n",
    "for test set clients that subscribe(1), our model predicts 35% correct. Its best we miss by False negative instead of False Positive"
   ]
  },
  {
   "cell_type": "markdown",
   "metadata": {
    "id": "_iw2n5oPx5UA"
   },
   "source": [
    "### K Neighbors"
   ]
  },
  {
   "cell_type": "code",
   "execution_count": 42,
   "metadata": {
    "id": "OmA15kwbx5UA"
   },
   "outputs": [],
   "source": [
    "warnings.simplefilter(action='ignore', category=FutureWarning)"
   ]
  },
  {
   "cell_type": "code",
   "execution_count": 43,
   "metadata": {
    "id": "T3gXBeEpx5UA"
   },
   "outputs": [],
   "source": [
    "from sklearn.neighbors import KNeighborsClassifier\n",
    "\n",
    "def k_neighbors_classifier(X_train,y_train, X_test,y_test):\n",
    "    ''' K Neighbors Classifier using MinMaxScaler, GridSearchCV, and cross-validation for the wine datasets. \n",
    "    \n",
    "    Prints the cross-validation accuracy, the selected best parameters, the scaled training&test scores, \n",
    "    and the classification report.\n",
    "    Creates a confusion matrix.\n",
    "    Also does creates the model without scaler and prints the results with using the unscaled data. \n",
    "    \n",
    "    Args:\n",
    "        X_train : pandas.core.frame.DataFrame [The arguments that you would like to train the model on]\n",
    "        y_train : pandas.core.frame.DataFrame [The target that you would like to train the model on]\n",
    "        X_test : pandas.core.frame.DataFrame [The arguments that you would like to test the model on]\n",
    "        y_test : pandas.core.frame.DataFrame [The target that you would like to test the model on]\n",
    "    \n",
    "    Returns:\n",
    "        Does not return anything.  \n",
    "    '''\n",
    "    \n",
    "    \n",
    "    # Grid Search and Pipeline\n",
    "    param_grid = {'knn__n_neighbors': list(range(1,21))}\n",
    "\n",
    "    pipe = Pipeline([(\"scaler\", MinMaxScaler()), (\"knn\", KNeighborsClassifier())]) # Create a pipeline with a scaler and a classifier\n",
    "    grid = GridSearchCV(pipe, param_grid=param_grid, cv=5)\n",
    "    grid.fit(X_train, y_train)\n",
    "\n",
    "    print(\"Best cross-validation accuracy: {:.2f}\".format(grid.best_score_))\n",
    "    print(\"Best parameters: {}\".format(grid.best_params_))\n",
    "\n",
    "    # Report the training set and test set scores\n",
    "    print('Scaled training set score: {:.4f}'.format(grid.score(X_train,y_train)))\n",
    "    print('Scaled Test set score: {:.4f}'.format(grid.score(X_test,y_test)))\n",
    "\n",
    "    y_pred = grid.predict(X_test)\n",
    "    print(classification_report(y_test, y_pred))\n",
    "    \n",
    "    # Calculate the confusion matrix\n",
    "    cf_matrix = confusion_matrix(y_test, y_pred)\n",
    "    print('Confusion matrix:',cf_matrix)\n",
    "    ax = sns.heatmap(cf_matrix/np.sum(cf_matrix), annot=True, \n",
    "            fmt='.2%', cmap='Blues')\n",
    "\n",
    "    ax.set_title('Confusion Matrix\\n\\n');\n",
    "    ax.set_xlabel('\\nPredicted Values')\n",
    "    ax.set_ylabel('Actual Values ');\n",
    "\n",
    "\n",
    "    # Display the visualization of the Confusion Matrix.\n",
    "    plt.show()\n",
    "    \n",
    "    knn_unscaled = KNeighborsClassifier() #try unscaled data\n",
    "    param_grid2 = {'n_neighbors': list(range(1,21))}\n",
    "    grid2 = GridSearchCV(knn_unscaled, param_grid=param_grid2, cv=5)\n",
    "    grid2.fit(X_train, y_train)\n",
    "    print('Unscaled training set score: {:.4f}'.format(grid2.score(X_train,y_train)))\n",
    "    print('Unscaled test set score: {:.4f}'.format(grid2.score(X_test,y_test)))"
   ]
  },
  {
   "cell_type": "code",
   "execution_count": 44,
   "metadata": {
    "colab": {
     "base_uri": "https://localhost:8080/",
     "height": 632
    },
    "id": "61THg50sx5UA",
    "outputId": "b6f394a0-8381-43c8-df0d-42030cfb561d"
   },
   "outputs": [
    {
     "name": "stdout",
     "output_type": "stream",
     "text": [
      "Best cross-validation accuracy: 0.72\n",
      "Best parameters: {'knn__n_neighbors': 20}\n",
      "Scaled training set score: 0.7379\n",
      "Scaled Test set score: 0.6868\n",
      "              precision    recall  f1-score   support\n",
      "\n",
      "          no       0.72      0.91      0.80      2969\n",
      "         yes       0.48      0.19      0.27      1322\n",
      "\n",
      "    accuracy                           0.69      4291\n",
      "   macro avg       0.60      0.55      0.54      4291\n",
      "weighted avg       0.64      0.69      0.64      4291\n",
      "\n",
      "Confusion matrix: [[2699  270]\n",
      " [1074  248]]\n"
     ]
    },
    {
     "data": {
      "image/png": "[encoded data removed]",
      "text/plain": [
       "<Figure size 432x288 with 2 Axes>"
      ]
     },
     "metadata": {
      "needs_background": "light"
     },
     "output_type": "display_data"
    },
    {
     "name": "stdout",
     "output_type": "stream",
     "text": [
      "Unscaled training set score: 0.7038\n",
      "Unscaled test set score: 0.6900\n"
     ]
    }
   ],
   "source": [
    "k_neighbors_classifier(X_train,y_train, X_test,y_test)"
   ]
  },
  {
   "cell_type": "markdown",
   "metadata": {
    "id": "Kc_9-KMZ3RgS"
   },
   "source": [
    "Precision and recall:\n",
    "\n",
    "1. precision: \n",
    "\n",
    "our model for pointed clients that didn't subscribe(0) has a 72% correct rate;\n",
    "\n",
    "our model for pointed clients that subscribe(1) has a 48% correct rate\n",
    "\n",
    "2. recall:\n",
    "\n",
    "for test set clients that didn't subscribe(0), our model predicts 91% correct;\n",
    "\n",
    "for test set clients that subscribe(1), our model predicts 19% correct. Its best we miss by False negative instead of False Positive"
   ]
  },
  {
   "cell_type": "markdown",
   "metadata": {
    "id": "hATQtjRNx5UA"
   },
   "source": [
    "### Decision Tree"
   ]
  },
  {
   "cell_type": "code",
   "execution_count": 45,
   "metadata": {
    "id": "YFfFQ51xx5UB"
   },
   "outputs": [],
   "source": [
    "from sklearn.tree import DecisionTreeClassifier"
   ]
  },
  {
   "cell_type": "code",
   "execution_count": 46,
   "metadata": {
    "id": "AaYFYoxIx5UB"
   },
   "outputs": [],
   "source": [
    "def decision_tree(X_train,y_train, X_test,y_test):\n",
    "    ''' Decision Tree Classifier using MinMaxScaler, GridSearchCV, and cross-validation for the wine datasets. \n",
    "    \n",
    "    Prints the cross-validation accuracy, the selected best parameters, the scaled training&test scores, \n",
    "    and the classification report.\n",
    "    Creates a confusion matrix.\n",
    "    \n",
    "    Args:\n",
    "        X_train : pandas.core.frame.DataFrame [The arguments that you would like to train the model on]\n",
    "        y_train : pandas.core.frame.DataFrame [The target that you would like to train the model on]\n",
    "        X_test : pandas.core.frame.DataFrame [The arguments that you would like to test the model on]\n",
    "        y_test : pandas.core.frame.DataFrame [The target that you would like to test the model on]\n",
    "    \n",
    "    Returns:\n",
    "        Does not return anything.  \n",
    "    '''\n",
    "    # Grid Search\n",
    "    param_grid = {'max_depth': [2,4,6,8,10],'max_features':[0.1, 0.2, 0.3, 0.4, 0.5,0.6,0.7]}\n",
    "    tree = DecisionTreeClassifier()\n",
    "    grid = GridSearchCV(tree, param_grid=param_grid, cv=5)\n",
    "    grid.fit(X_train, y_train) \n",
    "    \n",
    "    print(\"Best cross-validation accuracy: {:.2f}\".format(grid.best_score_))\n",
    "    print(\"Best parameters: {}\".format(grid.best_params_))\n",
    "    \n",
    "    # Report the training set and test set scores\n",
    "    tree_score_train = grid.score(X_train, y_train)\n",
    "    tree_score_test = grid.score(X_test, y_test)\n",
    "    \n",
    "    print(\"Training score: \",tree_score_train)\n",
    "    print(\"Testing score: \",tree_score_test)\n",
    "    \n",
    "    y_pred = grid.predict(X_test)\n",
    "    print(classification_report(y_test, y_pred))\n",
    "    \n",
    "    # Calculate the confusion matrix\n",
    "    cf_matrix = confusion_matrix(y_test, y_pred)\n",
    "    print('Confusion matrix:',cf_matrix)\n",
    "    ax = sns.heatmap(cf_matrix/np.sum(cf_matrix), annot=True, \n",
    "            fmt='.2%', cmap='Blues')\n",
    "\n",
    "    ax.set_title('Confusion Matrix\\n\\n');\n",
    "    ax.set_xlabel('\\nPredicted Values')\n",
    "    ax.set_ylabel('Actual Values ');\n",
    "\n",
    "\n",
    "    ## Display the visualization of the Confusion Matrix.\n",
    "    plt.show()"
   ]
  },
  {
   "cell_type": "code",
   "execution_count": 47,
   "metadata": {
    "colab": {
     "base_uri": "https://localhost:8080/",
     "height": 597
    },
    "id": "kiWLSIaCx5UB",
    "outputId": "ee60388f-a842-4817-ceba-32a69b4a20b0"
   },
   "outputs": [
    {
     "name": "stdout",
     "output_type": "stream",
     "text": [
      "Best cross-validation accuracy: 0.75\n",
      "Best parameters: {'max_depth': 6, 'max_features': 0.6}\n",
      "Training score:  0.7593628593628594\n",
      "Testing score:  0.754136564903286\n",
      "              precision    recall  f1-score   support\n",
      "\n",
      "          no       0.76      0.94      0.84      2969\n",
      "         yes       0.71      0.34      0.46      1322\n",
      "\n",
      "    accuracy                           0.75      4291\n",
      "   macro avg       0.74      0.64      0.65      4291\n",
      "weighted avg       0.75      0.75      0.72      4291\n",
      "\n",
      "Confusion matrix: [[2784  185]\n",
      " [ 870  452]]\n"
     ]
    },
    {
     "data": {
      "image/png": "[encoded data removed]",
      "text/plain": [
       "<Figure size 432x288 with 2 Axes>"
      ]
     },
     "metadata": {
      "needs_background": "light"
     },
     "output_type": "display_data"
    }
   ],
   "source": [
    "decision_tree(X_train,y_train, X_test,y_test)"
   ]
  },
  {
   "cell_type": "markdown",
   "metadata": {
    "id": "Ad2pNxVo3YgN"
   },
   "source": [
    "Precision and recall:\n",
    "\n",
    "1. precision: \n",
    "\n",
    "our model for pointed clients that didn't subscribe(0) has a 76% correct rate;\n",
    "\n",
    "our model for pointed clients that subscribe(1) has a 71% correct rate\n",
    "\n",
    "2. recall:\n",
    "\n",
    "for test set clients that didn't subscribe(0), our model predicts 94% correct;\n",
    "\n",
    "for test set clients that subscribe(1), our model predicts 32% correct. Its best we miss by False negative instead of False Positive"
   ]
  },
  {
   "cell_type": "markdown",
   "metadata": {
    "id": "8hnlUN--x5UB"
   },
   "source": [
    "Apart from controlling for hyperparameters, it may be possible to avoid overfitting by\n",
    "1. using classification metrics and stopping the cut if the next cut does not reduce the error\n",
    "2. postpruning, where a decision tree is constructed (possibly overfitting), then some subtrees are removed and replaced with their leaves or nodes\n",
    "3. bagging decision trees, using random forest\n",
    "\n"
   ]
  },
  {
   "cell_type": "markdown",
   "metadata": {
    "id": "L2XxqQqrx5UB"
   },
   "source": [
    "### RandomForest"
   ]
  },
  {
   "cell_type": "code",
   "execution_count": 48,
   "metadata": {
    "id": "wq0RyH64x5UB"
   },
   "outputs": [],
   "source": [
    "from sklearn.ensemble import RandomForestClassifier\n",
    "def random_forest(X_train,y_train, X_test,y_test):\n",
    "    ''' Random Forest Classifier using MinMaxScaler, GridSearchCV, and cross-validation for the wine datasets. \n",
    "    \n",
    "    Prints the cross-validation accuracy, the selected best parameters, the scaled training&test scores, \n",
    "    and the classification report.\n",
    "    Creates a confusion matrix.\n",
    "    \n",
    "    Args:\n",
    "        X_train : pandas.core.frame.DataFrame [The arguments that you would like to train the model on]\n",
    "        y_train : pandas.core.frame.DataFrame [The target that you would like to train the model on]\n",
    "        X_test : pandas.core.frame.DataFrame [The arguments that you would like to test the model on]\n",
    "        y_test : pandas.core.frame.DataFrame [The target that you would like to test the model on]\n",
    "    \n",
    "    Returns:\n",
    "        Does not return anything.  \n",
    "    '''\n",
    "\n",
    "    # Grid Search\n",
    "    param_grid = {'max_depth': [2,4,8,10],'max_features':['auto', 'sqrt', 'log2'],'n_estimators':[100,200,300,400]}\n",
    "    rfc = RandomForestClassifier()\n",
    "    grid = GridSearchCV(rfc, param_grid=param_grid, cv=5)\n",
    "    grid.fit(X_train, y_train) \n",
    "    \n",
    "    print(\"Best cross-validation accuracy: {:.2f}\".format(grid.best_score_))\n",
    "    print(\"Best parameters: {}\".format(grid.best_params_))\n",
    "    \n",
    "    # Report the training set and test set scores\n",
    "    rfc_score_train = grid.score(X_train, y_train)\n",
    "    rfc_score_test = grid.score(X_test, y_test)\n",
    "    print(\"Training score: \",rfc_score_train)\n",
    "    print(\"Testing score: \",rfc_score_test)\n",
    "    \n",
    "    y_pred = grid.predict(X_test)\n",
    "    print(classification_report(y_test, y_pred))\n",
    "    \n",
    "    # Calculate the confusion matrix\n",
    "    cf_matrix = confusion_matrix(y_test, y_pred)\n",
    "    print('Confusion matrix:',cf_matrix)\n",
    "    ax = sns.heatmap(cf_matrix/np.sum(cf_matrix), annot=True, \n",
    "            fmt='.2%', cmap='Blues')\n",
    "\n",
    "    ax.set_title('Confusion Matrix\\n\\n');\n",
    "    ax.set_xlabel('\\nPredicted Values')\n",
    "    ax.set_ylabel('Actual Values ');\n",
    "\n",
    "\n",
    "    # Display the visualization of the Confusion Matrix.\n",
    "    plt.show()"
   ]
  },
  {
   "cell_type": "code",
   "execution_count": 49,
   "metadata": {
    "id": "PB1CFjWKx5UC"
   },
   "outputs": [
    {
     "name": "stdout",
     "output_type": "stream",
     "text": [
      "Best cross-validation accuracy: 0.75\n",
      "Best parameters: {'max_depth': 10, 'max_features': 'auto', 'n_estimators': 100}\n",
      "Training score:  0.7823620823620824\n",
      "Testing score:  0.752505243532976\n",
      "              precision    recall  f1-score   support\n",
      "\n",
      "          no       0.76      0.93      0.84      2969\n",
      "         yes       0.70      0.34      0.46      1322\n",
      "\n",
      "    accuracy                           0.75      4291\n",
      "   macro avg       0.73      0.64      0.65      4291\n",
      "weighted avg       0.74      0.75      0.72      4291\n",
      "\n",
      "Confusion matrix: [[2774  195]\n",
      " [ 867  455]]\n"
     ]
    },
    {
     "data": {
      "image/png": "[encoded data removed]",
      "text/plain": [
       "<Figure size 432x288 with 2 Axes>"
      ]
     },
     "metadata": {
      "needs_background": "light"
     },
     "output_type": "display_data"
    }
   ],
   "source": [
    "random_forest(X_train,y_train, X_test,y_test)"
   ]
  },
  {
   "cell_type": "markdown",
   "metadata": {
    "id": "CZjVJ19z3iHW"
   },
   "source": [
    "Precision and recall:\n",
    "\n",
    "1. precision: \n",
    "\n",
    "our model for pointed clients that didn't subscribe(0) has a 76% correct rate;\n",
    "\n",
    "our model for pointed clients that subscribe(1) has a 70% correct rate\n",
    "\n",
    "2. recall:\n",
    "\n",
    "for test set clients that didin't subscribe(0), our model predicts 93% correct;\n",
    "\n",
    "for test set clients that subscribe(1), our model predicts 35% correct. Its best we miss by False negative instead of False Positive"
   ]
  },
  {
   "cell_type": "markdown",
   "metadata": {
    "id": "j_fRXPmRx5UC"
   },
   "source": [
    "How are decision tree classifiers different from random forests on a structural: decision trees are graphs that illustrate all possible outcomes of a decision using a branching approach. In contrast, the random forest algorithm output are a set of decision trees that work according to the output."
   ]
  },
  {
   "cell_type": "markdown",
   "metadata": {
    "id": "Brhwgbzcx5UC"
   },
   "source": [
    "The decision tree:\n",
    "1. the model is easy to interpret: we have a sight of the variable and their values that are used to split the data and are able to see the final model;\n",
    "2. takes much less time than the random forest;\n",
    "\n",
    "The random forest:\n",
    "1. difficult to interpret since random forests involve multiple decision trees;\n",
    "2. take a long time: more trees might improve performance, but also slow down the speed.\n",
    "3. Random forests are helpful when the decision tree model is overfitting\n",
    "\n",
    "In summary, the random forest is better if the decision tree is over-fitted, or when the runtime of the random forest is acceptable to us; the decision tree is better if we expect an interpretation of the model, or when the random forest takes too long.\n",
    "\n"
   ]
  },
  {
   "cell_type": "markdown",
   "metadata": {
    "id": "8QLhTXOyNKTA"
   },
   "source": [
    "# Part 3 Evaluation Metrics"
   ]
  },
  {
   "cell_type": "markdown",
   "metadata": {
    "id": "xbMh1Txt7bU9"
   },
   "source": [
    "The Accuracy, Macro and Micro-Averaged Precision & Recall, and F1 score is reported after running each of the functions that were made. \n",
    "\n",
    "Accuracy of the training and test sets are printed in seperate lines. \n",
    "\n",
    "Macro and Micro-Averaged Precision & Recal and F1 scores can be seen in the classification report table. \n",
    "\n",
    "\n",
    "Analysis on what these scores mean for the models under consideration: \n",
    "    \n",
    "    Accuracy. \n",
    "    From the machine learning models that we tried out, the Random Forest Classifier preformed the best based on the \n",
    "    accuracy score. (0.752) \n",
    "    The Linear SVC, Linear Regression, and Decision Tree classifier all preformed similarly. (~ 0.73)\n",
    "    K Neighbors Classifier preformed the worst. (0.689)\n",
    "    \n",
    "    False positives and false negatives. \n",
    "    If you wanted to have the least amount of false negatives, you should choose the Decision Tree.\n",
    "    If flase positives are the most costly, going with the Random Forest would be the best."
   ]
  },
  {
   "cell_type": "code",
   "execution_count": null,
   "metadata": {},
   "outputs": [],
   "source": []
  },
  {
   "cell_type": "code",
   "execution_count": null,
   "metadata": {},
   "outputs": [],
   "source": []
  }
 ],
 "metadata": {
  "colab": {
   "collapsed_sections": [
    "VAydvn0o1i8o"
   ],
   "provenance": []
  },
  "kernelspec": {
   "display_name": "Python 3 (ipykernel)",
   "language": "python",
   "name": "python3"
  },
  "language_info": {
   "codemirror_mode": {
    "name": "ipython",
    "version": 3
   },
   "file_extension": ".py",
   "mimetype": "text/x-python",
   "name": "python",
   "nbconvert_exporter": "python",
   "pygments_lexer": "ipython3",
   "version": "3.9.12"
  },
  "toc-autonumbering": false
 },
 "nbformat": 4,
 "nbformat_minor": 1
}
